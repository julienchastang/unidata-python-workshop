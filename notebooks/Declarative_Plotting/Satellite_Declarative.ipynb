{
 "cells": [
  {
   "cell_type": "markdown",
   "metadata": {},
   "source": [
    "<a name=\"pagetop\"></a>\n",
    "<div style=\"width:1000 px\">\n",
    "\n",
    "<div style=\"float:right; width:98 px; height:98px;\"><img src=\"https://pbs.twimg.com/profile_images/1187259618/unidata_logo_rgb_sm_400x400.png\" alt=\"Unidata Logo\" style=\"height: 98px;\"></div>\n",
    "\n",
    "<h1>Declarative Plotting with Satellite Data</h1>\n",
    "<h3>Unidata Python Workshop</h3>\n",
    "\n",
    "<div style=\"clear:both\"></div>\n",
    "</div>\n",
    "\n",
    "<hr style=\"height:2px;\">\n",
    "\n",
    "<div style=\"float:right; width:300 px\"><img src=\"https://unidata.github.io/MetPy/latest/_images/sphx_glr_GINI_Water_Vapor_001.png\" alt=\"Example Satellite Image\" style=\"height: 350px;\"></div>\n",
    "\n",
    "\n",
    "## Overview:\n",
    "\n",
    "* **Teaching:** 20 minutes\n",
    "* **Exercises:** 15 minutes\n",
    "\n",
    "### Questions\n",
    "1. How can satellite data be accessed with siphon?\n",
    "1. How can maps of satellite data be made using the declarative plotting interface?\n",
    "\n",
    "### Table of Contents\n",
    "1. <a href=\"#dataaccess\">Accessing data with Siphon</a>\n",
    "1. <a href=\"#plotting\">Plotting the data</a>"
   ]
  },
  {
   "cell_type": "markdown",
   "metadata": {},
   "source": [
    "<a name=\"dataaccess\"></a>\n",
    "## Accessing data with Siphon"
   ]
  },
  {
   "cell_type": "markdown",
   "metadata": {},
   "source": [
    "As we saw with the PlottingSatelliteData notebook, GOES 16/17 data is available via the Unidata THREDDS server and can be accessed with siphon. We make use of fstrings in order to provide date, region, and channel variables to the URL string."
   ]
  },
  {
   "cell_type": "code",
   "execution_count": null,
   "metadata": {},
   "outputs": [],
   "source": [
    "from siphon.catalog import TDSCatalog\n",
    "from datetime import datetime"
   ]
  },
  {
   "cell_type": "code",
   "execution_count": null,
   "metadata": {},
   "outputs": [],
   "source": [
    "# Create variables for URL generation\n",
    "image_date = datetime.utcnow().date()\n",
    "region = 'Mesoscale-1'\n",
    "channel = 8\n",
    "\n",
    "# Create the URL to provide to siphon\n",
    "data_url =  ('https://thredds.ucar.edu/thredds/catalog/satellite/goes/east/products/'\n",
    "            f'CloudAndMoistureImagery/{region}/Channel{channel:02d}/'\n",
    "            f'{image_date:%Y%m%d}/catalog.xml')"
   ]
  },
  {
   "cell_type": "code",
   "execution_count": null,
   "metadata": {},
   "outputs": [],
   "source": [
    "cat = TDSCatalog(data_url)"
   ]
  },
  {
   "cell_type": "code",
   "execution_count": null,
   "metadata": {},
   "outputs": [],
   "source": [
    "dataset = cat.datasets[1]\n",
    "print(dataset)"
   ]
  },
  {
   "cell_type": "code",
   "execution_count": null,
   "metadata": {},
   "outputs": [],
   "source": [
    "ds = dataset.remote_access(use_xarray=True)\n",
    "print(ds)"
   ]
  },
  {
   "cell_type": "markdown",
   "metadata": {},
   "source": [
    "<a name=\"plotting\"></a>\n",
    "## Plotting the Data"
   ]
  },
  {
   "cell_type": "markdown",
   "metadata": {},
   "source": [
    "To plot our data we'll be using MetPy's new declarative plotting functionality. You can write lots of matplotlib based code, but this interface greatly reduces the number of lines you need to write to get a great starting plot and then lets you customize it. The declarative plotting interface consists of three fundamental objects/concepts:\n",
    "\n",
    "* **Plot** - This is the actual representation of the data and can be `ImagePlot`, `ContourPlot`, or `Plot2D`.\n",
    "* **Panel** - This is a single panel (i.e. coordinate system). Panels contain plots. Currently the `MapPanel` is the only panel type available.\n",
    "* **Panel Container** - The container can hold multiple panels to make a multi-pane figure. Panel Containers can be thought of as the whole figure object in matplotlib.\n",
    "\n",
    "So containers have panels which have plots. It takes a second to get that straight in your mind, but it makes setting up complex figures very simple.\n",
    "\n",
    "For this plot we need a single panel and we want to plot the satellite image, so we'll use the `ImagePlot`."
   ]
  },
  {
   "cell_type": "code",
   "execution_count": null,
   "metadata": {},
   "outputs": [],
   "source": [
    "from metpy.plots import ImagePlot, MapPanel, PanelContainer\n",
    "%matplotlib inline"
   ]
  },
  {
   "cell_type": "markdown",
   "metadata": {},
   "source": [
    "Let's start out with the smallest element, the plot, and build up to the largest, the panel container.\n",
    "\n",
    "First, we'll make the `ImagePlot`:"
   ]
  },
  {
   "cell_type": "code",
   "execution_count": null,
   "metadata": {},
   "outputs": [],
   "source": [
    "img = ImagePlot()\n",
    "img.data = ds\n",
    "img.field = 'Sectorized_CMI'"
   ]
  },
  {
   "cell_type": "markdown",
   "metadata": {},
   "source": [
    "Next, we'll make the panel that our image will go into, the `MapPanel` object and add the image to the plots on the panel."
   ]
  },
  {
   "cell_type": "code",
   "execution_count": null,
   "metadata": {},
   "outputs": [],
   "source": [
    "panel = MapPanel()\n",
    "panel.plots = [img]"
   ]
  },
  {
   "cell_type": "markdown",
   "metadata": {},
   "source": [
    "Finally, we make the `PanelContainer` and add the panel to its container. Remember that since we can have multiple plots on a panel and multiple panels on a plot, we use lists. In this case is just happens to be a list of length 1."
   ]
  },
  {
   "cell_type": "code",
   "execution_count": null,
   "metadata": {},
   "outputs": [],
   "source": [
    "pc = PanelContainer()\n",
    "pc.panels = [panel]"
   ]
  },
  {
   "cell_type": "markdown",
   "metadata": {},
   "source": [
    "Unlike working with matplotlib directly in the notebooks, this figure hasn't actually been rendered yet. Calling the `show` method of the panel container builds up everything, renders, and shows it to us."
   ]
  },
  {
   "cell_type": "code",
   "execution_count": null,
   "metadata": {},
   "outputs": [],
   "source": [
    "pc.show()"
   ]
  },
  {
   "cell_type": "markdown",
   "metadata": {},
   "source": [
    "### Exercise\n",
    "* Look at the documentation for the `ImagePlot` [here](https://unidata.github.io/MetPy/latest/api/generated/metpy.plots.ImagePlot.html#metpy.plots.ImagePlot) and figure out how to set the colormap of the image. For this image, let's go with the `WVCIMSS_r` colormap as this is a mid-level water vapor image. Set the range for the colormap to 195-265 K.\n",
    "* BONUS: Use the MetPy `add_timestamp` method from `metpy.plots` to add a timestamp to the plot. You can get the axes object to plot on from the `ImagePlot`. The call will look something like `img.ax`. This needs to happen after the panels have been added to the `PanelContainer`.\n",
    "* DAILY DOUBLE: Using the `start_date_time` attribute on the dataset `ds`, change the call to `add_timestamp` to use that date and time and the pretext to say `GOES 16 Channel X`."
   ]
  },
  {
   "cell_type": "code",
   "execution_count": null,
   "metadata": {},
   "outputs": [],
   "source": [
    "# Import for the bonus exercise\n",
    "from metpy.plots import add_timestamp\n",
    "\n",
    "# Make the image plot\n",
    "# YOUR CODE GOES HERE\n",
    "\n",
    "# Make the map panel and add the image to it\n",
    "# YOUR CODE GOES HERE\n",
    "\n",
    "# Make the panel container and add the panel to it\n",
    "# YOUR CODE GOES HERE\n",
    "\n",
    "# Show the plot\n",
    "# YOUR CODE GOES HERE"
   ]
  },
  {
   "cell_type": "markdown",
   "metadata": {},
   "source": [
    "#### Solution"
   ]
  },
  {
   "cell_type": "code",
   "execution_count": null,
   "metadata": {},
   "outputs": [],
   "source": [
    "# %load solutions/sat_map.py\n"
   ]
  }
 ],
 "metadata": {
  "kernelspec": {
   "display_name": "Python [conda env:unidata-python-workshop]",
   "language": "python",
   "name": "conda-env-unidata-python-workshop-py"
  },
  "language_info": {
   "codemirror_mode": {
    "name": "ipython",
    "version": 3
   },
   "file_extension": ".py",
   "mimetype": "text/x-python",
   "name": "python",
   "nbconvert_exporter": "python",
   "pygments_lexer": "ipython3",
   "version": "3.7.3"
  }
 },
 "nbformat": 4,
 "nbformat_minor": 2
}
